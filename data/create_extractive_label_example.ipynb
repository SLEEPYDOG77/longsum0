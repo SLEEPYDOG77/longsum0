{
 "cells": [
  {
   "cell_type": "markdown",
   "metadata": {},
   "source": [
    "# Import"
   ]
  },
  {
   "cell_type": "code",
   "execution_count": 1,
   "metadata": {
    "scrolled": true
   },
   "outputs": [],
   "source": [
    "from create_extractive_label import (\n",
    "    PodcastEpisodeXtra, \n",
    "    ResearchArticleXtra,\n",
    "    read_ext_label, \n",
    "    f1_oracle_generate,\n",
    "    generate_ext_label_podcast_data,\n",
    "    generate_ext_label_arxiv_data\n",
    ")\n",
    "from podcast_processor import PodcastEpisode\n",
    "from arxiv_processor import ResearchArticle"
   ]
  },
  {
   "cell_type": "markdown",
   "metadata": {},
   "source": [
    "# Step1: Generate Extrative labels\n",
    "- this can be done in parallel across different machines to speed up\n",
    "- use ```generate_ext_label_arxiv_data``` or ```generate_ext_label_podcast_data```\n",
    "- the function will write ext labels in ```output_dir```"
   ]
  },
  {
   "cell_type": "code",
   "execution_count": 2,
   "metadata": {},
   "outputs": [
    {
     "name": "stdout",
     "output_type": "stream",
     "text": [
      "len(articles) = 6440\n",
      "num sentences found: 11\n",
      "processed: temp//0_ext_label.txt\n",
      "num sentences found: 7\n",
      "processed: temp//1_ext_label.txt\n",
      "num sentences found: 4\n",
      "processed: temp//2_ext_label.txt\n",
      "num sentences found: 5\n",
      "processed: temp//3_ext_label.txt\n",
      "num sentences found: 10\n",
      "processed: temp//4_ext_label.txt\n"
     ]
    }
   ],
   "source": [
    "generate_ext_label_arxiv_data(\n",
    "    # data_path=\"arxiv/arxiv_test.pk.bin\",\n",
    "    data_path=\"arxiv/arxiv_test.pk.bin\",\n",
    "    output_dir=\"temp/\",\n",
    "    start_id=0, # first sample \n",
    "    end_id=5, # last sample (should be len(samples))\n",
    ")"
   ]
  },
  {
   "cell_type": "markdown",
   "metadata": {},
   "source": [
    "# Step2: Generate data pickle (with extrative labels)\n",
    "- do this once step1 is complete\n",
    "- this new data pickle file will be used in training / inference"
   ]
  },
  {
   "cell_type": "code",
   "execution_count": 3,
   "metadata": {},
   "outputs": [],
   "source": [
    "import pickle"
   ]
  },
  {
   "cell_type": "code",
   "execution_count": 4,
   "metadata": {},
   "outputs": [],
   "source": [
    "data_path=\"arxiv/arxiv_test.pk.bin\"\n",
    "with open(data_path, 'rb') as f:\n",
    "    data = pickle.load(f, encoding=\"bytes\")\n",
    "data = data[:5] # just to show an example\n",
    "data_xtras = [None for _ in range(len(data))]\n",
    "for i in range(len(data)):\n",
    "    data_i = data[i]\n",
    "    data_xtra = ResearchArticleXtra(\n",
    "        data_i.article_id,\n",
    "        data_i.abstract_text, \n",
    "        data_i.article_text,\n",
    "        ext_label_path=\"temp/{}_ext_label.txt\".format(i)\n",
    "    )\n",
    "    data_xtras[i] = data_xtra\n",
    "dump_path = 'arxiv/arxiv_test_ext.bin'\n",
    "with open(dump_path, \"wb\") as f:\n",
    "    pickle.dump(data_xtras, f)"
   ]
  }
 ],
 "metadata": {
  "kernelspec": {
   "display_name": "torch12-cuda10",
   "language": "python",
   "name": "torch12-cuda10"
  },
  "language_info": {
   "codemirror_mode": {
    "name": "ipython",
    "version": 3
   },
   "file_extension": ".py",
   "mimetype": "text/x-python",
   "name": "python",
   "nbconvert_exporter": "python",
   "pygments_lexer": "ipython3",
   "version": "3.7.5"
  }
 },
 "nbformat": 4,
 "nbformat_minor": 2
}
